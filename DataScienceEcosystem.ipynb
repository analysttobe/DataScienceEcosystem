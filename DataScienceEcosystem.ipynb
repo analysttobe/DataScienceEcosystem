{
  "nbformat": 4,
  "nbformat_minor": 0,
  "metadata": {
    "colab": {
      "provenance": []
    },
    "kernelspec": {
      "name": "python3",
      "display_name": "Python 3"
    },
    "language_info": {
      "name": "python"
    }
  },
  "cells": [
    {
      "cell_type": "markdown",
      "source": [
        "# Data Science Tools and Ecosystem"
      ],
      "metadata": {
        "id": "U0SsmRxhmDo5"
      }
    },
    {
      "cell_type": "markdown",
      "source": [
        "In this notebook, Data Science Tools and Ecosystem are summarized."
      ],
      "metadata": {
        "id": "1_l3TApXm5f4"
      }
    },
    {
      "cell_type": "code",
      "source": [
        "#Some of the popular languages that Data Scientists use are:\n",
        "\n",
        "# Creating an ordered list\n",
        "languages = [\"Python\", \"R\", \"SQL\"]\n",
        "\n",
        "# Printing the ordered list\n",
        "for index, language in enumerate(languages, start=1):\n",
        "    print(f\"{index}. {language}\")\n"
      ],
      "metadata": {
        "colab": {
          "base_uri": "https://localhost:8080/"
        },
        "id": "j2Hv_94tnTKu",
        "outputId": "3f8ce687-435e-423e-b90a-b1cf088de2bf"
      },
      "execution_count": 1,
      "outputs": [
        {
          "output_type": "stream",
          "name": "stdout",
          "text": [
            "1. Python\n",
            "2. R\n",
            "3. SQL\n"
          ]
        }
      ]
    },
    {
      "cell_type": "code",
      "source": [
        "#Some of the commonly used libraries used by Data Scientists include:\n",
        "\n",
        "# Creating an ordered list\n",
        "libraries = [\"NumPy\", \"Pandas\", \"Matplotlib\"]\n",
        "\n",
        "# Printing the ordered list\n",
        "for index, language in enumerate(libraries, start=1):\n",
        "    print(f\"{index}. {language}\")"
      ],
      "metadata": {
        "colab": {
          "base_uri": "https://localhost:8080/"
        },
        "id": "i8GSURZlox-E",
        "outputId": "6065a62e-cceb-40a8-e7f3-140d1738403c"
      },
      "execution_count": 2,
      "outputs": [
        {
          "output_type": "stream",
          "name": "stdout",
          "text": [
            "1. NumPy\n",
            "2. Pandas\n",
            "3. Matplotlib\n"
          ]
        }
      ]
    },
    {
      "cell_type": "code",
      "source": [
        "pip install PrettyTable\n"
      ],
      "metadata": {
        "colab": {
          "base_uri": "https://localhost:8080/"
        },
        "id": "Ct5yudN0ph_d",
        "outputId": "3a768dbf-30b4-469f-8b76-0898e21c292b"
      },
      "execution_count": 3,
      "outputs": [
        {
          "output_type": "stream",
          "name": "stdout",
          "text": [
            "Requirement already satisfied: PrettyTable in /usr/local/lib/python3.10/dist-packages (3.9.0)\n",
            "Requirement already satisfied: wcwidth in /usr/local/lib/python3.10/dist-packages (from PrettyTable) (0.2.10)\n"
          ]
        }
      ]
    },
    {
      "cell_type": "code",
      "source": [
        "from prettytable import PrettyTable\n",
        "\n",
        "# Create a PrettyTable object\n",
        "table = PrettyTable()\n",
        "\n",
        "# Define the table header\n",
        "table.field_names = [\"Data Science Tools\"]\n",
        "\n",
        "# Add data to the table\n",
        "table.add_row([\"Jupyter Notebooks\"])\n",
        "table.add_row([\"RStudio\"])\n",
        "table.add_row([\"VS Code with Python Plugin\"])\n",
        "\n",
        "# Print the table\n",
        "print(table)\n"
      ],
      "metadata": {
        "colab": {
          "base_uri": "https://localhost:8080/"
        },
        "id": "BXzbF6Pppp9v",
        "outputId": "d586feda-987c-40e5-878d-1d181072841b"
      },
      "execution_count": 4,
      "outputs": [
        {
          "output_type": "stream",
          "name": "stdout",
          "text": [
            "+----------------------------+\n",
            "|     Data Science Tools     |\n",
            "+----------------------------+\n",
            "|     Jupyter Notebooks      |\n",
            "|          RStudio           |\n",
            "| VS Code with Python Plugin |\n",
            "+----------------------------+\n"
          ]
        }
      ]
    },
    {
      "cell_type": "markdown",
      "source": [
        "### Below are a few examples of evaluating arithmetic expressions in Python"
      ],
      "metadata": {
        "id": "E6GJnUtZp4Re"
      }
    },
    {
      "cell_type": "code",
      "source": [
        "(3*4)+5\n",
        "#This a simple arithmetic expression to mutiply then add integers"
      ],
      "metadata": {
        "colab": {
          "base_uri": "https://localhost:8080/"
        },
        "id": "s9j-u16iqLh4",
        "outputId": "87353eb5-d275-4165-8c8c-9f20db1eccf5"
      },
      "execution_count": 5,
      "outputs": [
        {
          "output_type": "execute_result",
          "data": {
            "text/plain": [
              "17"
            ]
          },
          "metadata": {},
          "execution_count": 5
        }
      ]
    },
    {
      "cell_type": "code",
      "source": [
        "#This will convert 200 minutes to hours by diving by 60\n",
        "\n",
        "200/60"
      ],
      "metadata": {
        "colab": {
          "base_uri": "https://localhost:8080/"
        },
        "id": "fO-M6z9HqaVz",
        "outputId": "79f104d1-18ab-435a-d2e6-d7c225b4f75a"
      },
      "execution_count": 8,
      "outputs": [
        {
          "output_type": "execute_result",
          "data": {
            "text/plain": [
              "3.3333333333333335"
            ]
          },
          "metadata": {},
          "execution_count": 8
        }
      ]
    },
    {
      "cell_type": "markdown",
      "source": [
        "**Objectives:**\n",
        "\n",
        "\n",
        "\n",
        "*   List popular languages for Data Science\n",
        "*   List commonly used libraries used by Data Scientists\n",
        "*   Create a table\n",
        "\n",
        "\n",
        "\n",
        "\n"
      ],
      "metadata": {
        "id": "DdLO38S0q5nQ"
      }
    },
    {
      "cell_type": "markdown",
      "source": [
        "## Author\n",
        "  Edanur"
      ],
      "metadata": {
        "id": "-LFVDN6RrX4L"
      }
    }
  ]
}